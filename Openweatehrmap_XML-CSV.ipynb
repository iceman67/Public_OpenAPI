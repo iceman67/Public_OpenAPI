{
 "cells": [
  {
   "cell_type": "code",
   "execution_count": 1,
   "metadata": {},
   "outputs": [],
   "source": [
    "import requests\n",
    "import csv\n",
    "import time\n",
    "from datetime import datetime\n",
    "\n",
    "from bs4 import BeautifulSoup"
   ]
  },
  {
   "cell_type": "code",
   "execution_count": 2,
   "metadata": {},
   "outputs": [],
   "source": [
    "def search_city(city):\n",
    "\n",
    "    API_KEY = 'a070fcd8fc2db8d5d1f140466a2012b4'  # initialize your key here\n",
    "    # call API and convert response into Python dictionary\n",
    "    \n",
    "    url = f'http://api.openweathermap.org/data/2.5/weather?q={city}&APPID={API_KEY}&mode=xml'\n",
    "    #print (url)\n",
    "    response = requests.get(url)\n",
    "    # error like unknown city name, inavalid api key\n",
    "    if response.status_code != 200:\n",
    "        message = response.get('message', '')\n",
    "        return f'Error getting temperature for {city.title()}. Error message = {message}'\n",
    "\n",
    "    content = response.content\n",
    "    #print(content)\n",
    "    soup = BeautifulSoup(content, \"xml\")\n",
    "    \n",
    "     # get current temperature and convert it into Celsius\n",
    "    ct = datetime.now()\n",
    "    current_pressure = soup.find('pressure')['value']  \n",
    "    current_temperature = soup.find('temperature')['value']  \n",
    "    current_humidity = soup.find('humidity')['value']  \n",
    "    print(\"{},{},{},{}\".format(ct,current_temperature, current_humidity, current_pressure))\n",
    "    if current_temperature:\n",
    "        current_temperature_celsius = round(float(current_temperature) - 273.15, 2)\n",
    "        return f'Current temperature of {city.title()} is {current_temperature_celsius}'\n",
    "    else:\n",
    "        return f'Error getting temperature for {city.title()}'"
   ]
  },
  {
   "cell_type": "code",
   "execution_count": 15,
   "metadata": {},
   "outputs": [],
   "source": [
    "def search_city_extract(city):\n",
    "\n",
    "    API_KEY = 'a070fcd8fc2db8d5d1f140466a2012b4'  # initialize your key here\n",
    "    # call API and convert response into Python dictionary\n",
    "    \n",
    "    url = f'http://api.openweathermap.org/data/2.5/weather?q={city}&APPID={API_KEY}&mode=xml'\n",
    "    #print (url)\n",
    "    response = requests.get(url)\n",
    "    # error like unknown city name, inavalid api key\n",
    "    if response.status_code != 200:\n",
    "        message = response.get('message', '')\n",
    "        return f'Error getting temperature for {city.title()}. Error message = {message}'\n",
    "\n",
    "    content = response.content\n",
    "    #print(content)\n",
    "    soup = BeautifulSoup(content, \"xml\")\n",
    "    \n",
    "     # get current temperature and convert it into Celsius\n",
    "    now = datetime.now()\n",
    "  \n",
    "    date_time = now.strftime(\"%m/%d/%Y %H:%M:%S\")\n",
    "    current_pressure = soup.find('pressure')['value']  \n",
    "    current_temperature = soup.find('temperature')['value']  \n",
    "    current_humidity = soup.find('humidity')['value']  \n",
    "    #print(\"{},{},{},{}\".format(date_time,current_temperature, current_humidity, current_pressure))\n",
    "    \n",
    "    result = list()\n",
    "    result.append(date_time)\n",
    "    result.append(current_temperature)\n",
    "    result.append(current_humidity)\n",
    "    result.append(current_pressure)\n",
    "    return result"
   ]
  },
  {
   "cell_type": "code",
   "execution_count": 4,
   "metadata": {},
   "outputs": [
    {
     "name": "stdout",
     "output_type": "stream",
     "text": [
      "2020-05-24 15:06:42.964053,293.45,72,1009\n",
      "2020-05-24 15:06:43.577207,293.45,72,1009\n",
      "2020-05-24 15:06:49.032387,293.45,72,1009\n"
     ]
    }
   ],
   "source": [
    "result = search_city('Cheonan')\n",
    "city = 'cheonan'\n",
    "t=0\n",
    "while t < 2:\n",
    "    ret = search_city(city)\n",
    "    #print (ret)\n",
    "    time.sleep(5)            # wait five seconds\n",
    "    t += 1"
   ]
  },
  {
   "cell_type": "code",
   "execution_count": 19,
   "metadata": {},
   "outputs": [
    {
     "name": "stdout",
     "output_type": "stream",
     "text": [
      "# of service rqeusts:2\n",
      "['05/24/2020 15:16:19', '293.46', '72', '1009']\n",
      "['05/24/2020 15:16:25', '293.46', '72', '1009']\n"
     ]
    }
   ],
   "source": [
    "count = int(input(\"# of service rqeusts:\"))\n",
    "with open(\"{}.csv\".format(city), \"w\", newline='') as csv_file:\n",
    "    fieldnames = ['date', 'temperature','humidity','pressure']\n",
    "    writer = csv.DictWriter(csv_file, fieldnames=fieldnames)\n",
    "    writer.writeheader()\n",
    "    for i in range(count):\n",
    "        result = search_city_extract(city)\n",
    "        print (result)\n",
    "        writer.writerow({'date': result[0], 'temperature':  result[1], 'humidity':result[2],  'pressure':result[3] })\n",
    "        time.sleep(5)\n",
    " "
   ]
  },
  {
   "cell_type": "code",
   "execution_count": null,
   "metadata": {},
   "outputs": [],
   "source": []
  }
 ],
 "metadata": {
  "kernelspec": {
   "display_name": "Python 3",
   "language": "python",
   "name": "python3"
  },
  "language_info": {
   "codemirror_mode": {
    "name": "ipython",
    "version": 3
   },
   "file_extension": ".py",
   "mimetype": "text/x-python",
   "name": "python",
   "nbconvert_exporter": "python",
   "pygments_lexer": "ipython3",
   "version": "3.7.4"
  }
 },
 "nbformat": 4,
 "nbformat_minor": 2
}
