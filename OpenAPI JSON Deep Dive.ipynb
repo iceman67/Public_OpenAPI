{
 "cells": [
  {
   "cell_type": "markdown",
   "metadata": {},
   "source": [
    "#### Requests 패키지 설치 \n",
    "pip install requests\n",
    "\n",
    "\n",
    "https://www.geeksforgeeks.org/python-requests-tutorial/?ref=rp"
   ]
  },
  {
   "cell_type": "code",
   "execution_count": 7,
   "metadata": {},
   "outputs": [
    {
     "name": "stdout",
     "output_type": "stream",
     "text": [
      "<Response [200]>\n",
      "response encoding UTF-8\n",
      "response status_code 200\n",
      "0:00:00.510207\n"
     ]
    }
   ],
   "source": [
    "import requests\n",
    "\n",
    "# Requests for requesting the Scotch.io site\n",
    "res = requests.get('https://scotch.io')\n",
    "\n",
    "print(res)\n",
    "\n",
    "print (\"response encoding %s\" % res.encoding )# returns 'utf-8'\n",
    "print (\"response status_code %d\" % res.status_code )# returns 'utf-8'\n",
    "print(res.elapsed) # returns datetime.timedelta(0, 1, 666890)\n",
    " # returns 200\n"
   ]
  },
  {
   "cell_type": "markdown",
   "metadata": {},
   "source": [
    "1XX - Information\n",
    "2XX - Success\n",
    "3XX - Redirect\n",
    "4XX - Client Error (you made an error)\n",
    "5XX - Server Error (they made an error)"
   ]
  },
  {
   "cell_type": "code",
   "execution_count": 3,
   "metadata": {},
   "outputs": [
    {
     "name": "stdout",
     "output_type": "stream",
     "text": [
      "Response OK\n"
     ]
    }
   ],
   "source": [
    "if res:\n",
    "    print('Response OK')\n",
    "else:\n",
    "    print('Response Failed')"
   ]
  },
  {
   "cell_type": "code",
   "execution_count": 5,
   "metadata": {},
   "outputs": [],
   "source": [
    "#print(res.text)"
   ]
  },
  {
   "cell_type": "code",
   "execution_count": 11,
   "metadata": {},
   "outputs": [],
   "source": [
    "# requests.get(url, params={key: value}, args)\n",
    "\n",
    "API_KEY = 'a070fcd8fc2db8d5d1f140466a2012b4' \n",
    "url = 'http://api.openweathermap.org/data/2.5/weather'\n",
    "params = dict(q='Seoul', APPID=API_KEY)\n",
    "res = requests.get(url, params=params)\n",
    "\n"
   ]
  },
  {
   "cell_type": "markdown",
   "metadata": {},
   "source": [
    "##### openAPI 요청 \n",
    "\n",
    "\n",
    "\n",
    "url = f'http://api.openweathermap.org/data/2.5/weather?q={city}&APPID={API_KEY}'  \n",
    "\n",
    "res = requests.get(url).json()  \n"
   ]
  },
  {
   "cell_type": "code",
   "execution_count": 17,
   "metadata": {},
   "outputs": [
    {
     "name": "stdout",
     "output_type": "stream",
     "text": [
      "Response OK\n"
     ]
    }
   ],
   "source": [
    "if res:\n",
    "    print('Response OK')\n",
    "else:\n",
    "    print('Response Failed')"
   ]
  },
  {
   "cell_type": "code",
   "execution_count": 18,
   "metadata": {},
   "outputs": [
    {
     "name": "stdout",
     "output_type": "stream",
     "text": [
      "{'coord': {'lon': 126.98, 'lat': 37.57}, 'weather': [{'id': 800, 'main': 'Clear', 'description': 'clear sky', 'icon': '01d'}], 'base': 'stations', 'main': {'temp': 286.33, 'feels_like': 283.01, 'temp_min': 285.15, 'temp_max': 287.15, 'pressure': 1022, 'humidity': 43}, 'visibility': 10000, 'wind': {'speed': 2.1, 'deg': 290}, 'clouds': {'all': 1}, 'dt': 1586511989, 'sys': {'type': 1, 'id': 8117, 'country': 'KR', 'sunrise': 1586466247, 'sunset': 1586512933}, 'timezone': 32400, 'id': 1835848, 'name': 'Seoul', 'cod': 200}\n"
     ]
    }
   ],
   "source": [
    "json = res.json()\n",
    "print(json)"
   ]
  },
  {
   "cell_type": "markdown",
   "metadata": {},
   "source": [
    "##### 응답 JSON 자료 얻기 "
   ]
  },
  {
   "cell_type": "code",
   "execution_count": 16,
   "metadata": {},
   "outputs": [
    {
     "name": "stdout",
     "output_type": "stream",
     "text": [
      "{'lon': 126.98, 'lat': 37.57}\n",
      "126.98\n"
     ]
    }
   ],
   "source": [
    "print(json['coord'])\n",
    "print(json['coord']['lon'])"
   ]
  },
  {
   "cell_type": "code",
   "execution_count": 11,
   "metadata": {},
   "outputs": [
    {
     "name": "stdout",
     "output_type": "stream",
     "text": [
      "<Response [200]>\n"
     ]
    }
   ],
   "source": [
    "import requests \n",
    "from requests.auth import HTTPBasicAuth \n",
    "  \n",
    "# Making a get request \n",
    "response = requests.get('https://api.github.com/user', \n",
    "            auth = HTTPBasicAuth('iceman67', 'alswldnjs1!')) \n",
    "  \n",
    "# print request object \n",
    "print(response) "
   ]
  },
  {
   "cell_type": "code",
   "execution_count": 14,
   "metadata": {},
   "outputs": [
    {
     "data": {
      "text/plain": [
       "'iceman67'"
      ]
     },
     "execution_count": 14,
     "metadata": {},
     "output_type": "execute_result"
    }
   ],
   "source": [
    "response.json()['login']"
   ]
  }
 ],
 "metadata": {
  "kernelspec": {
   "display_name": "Python 3",
   "language": "python",
   "name": "python3"
  },
  "language_info": {
   "codemirror_mode": {
    "name": "ipython",
    "version": 3
   },
   "file_extension": ".py",
   "mimetype": "text/x-python",
   "name": "python",
   "nbconvert_exporter": "python",
   "pygments_lexer": "ipython3",
   "version": "3.7.4"
  }
 },
 "nbformat": 4,
 "nbformat_minor": 2
}
