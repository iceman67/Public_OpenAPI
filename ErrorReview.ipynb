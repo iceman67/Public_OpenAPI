{
 "cells": [
  {
   "cell_type": "code",
   "execution_count": 3,
   "metadata": {},
   "outputs": [],
   "source": [
    "import csv \n",
    "with open('400_20200411221745769.csv', 'r') as file:\n",
    "    reader = csv.reader(file)\n",
    "    next(reader)\n",
    "    line = []\n",
    "    for row in reader:\n",
    "        line.append(row)\n",
    "len(line) \n",
    "line[1] \n",
    "count  = 0\n",
    "no_row = len(line)\n",
    "error = 0\n",
    "s = 0\n",
    "temp =[]\n",
    "while count < no_row:\n",
    "    try:\n",
    "        if len(line[count]) == 3: \n",
    "            temp.append(float(line[count][2]))\n",
    "            s = s + float(line[count][2])\n",
    "        else:\n",
    "            error = error + 1\n",
    "    except ValueError:\n",
    "        print (line[count])\n",
    "    count = count + 1"
   ]
  },
  {
   "cell_type": "code",
   "execution_count": 5,
   "metadata": {},
   "outputs": [
    {
     "data": {
      "text/plain": [
       "8784"
      ]
     },
     "execution_count": 5,
     "metadata": {},
     "output_type": "execute_result"
    }
   ],
   "source": [
    "len(temp)"
   ]
  },
  {
   "cell_type": "code",
   "execution_count": null,
   "metadata": {},
   "outputs": [],
   "source": []
  },
  {
   "cell_type": "code",
   "execution_count": null,
   "metadata": {},
   "outputs": [],
   "source": []
  }
 ],
 "metadata": {
  "kernelspec": {
   "display_name": "Python 3",
   "language": "python",
   "name": "python3"
  },
  "language_info": {
   "codemirror_mode": {
    "name": "ipython",
    "version": 3
   },
   "file_extension": ".py",
   "mimetype": "text/x-python",
   "name": "python",
   "nbconvert_exporter": "python",
   "pygments_lexer": "ipython3",
   "version": "3.7.4"
  }
 },
 "nbformat": 4,
 "nbformat_minor": 2
}
