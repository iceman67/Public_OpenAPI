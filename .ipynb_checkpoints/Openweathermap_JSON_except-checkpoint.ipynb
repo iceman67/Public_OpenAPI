{
 "cells": [
  {
   "cell_type": "code",
   "execution_count": 5,
   "metadata": {},
   "outputs": [],
   "source": [
    "import requests"
   ]
  },
  {
   "cell_type": "code",
   "execution_count": 2,
   "metadata": {},
   "outputs": [],
   "source": [
    "def search_city(city):\n",
    "\n",
    "    API_KEY = 'a070fcd8fc2db8d5d1f140466a2012b4'  # initialize your key here\n",
    "    # call API and convert response into Python dictionary\n",
    "    \n",
    "    url = f'http://api.openweathermap.org/data/2.5/weather?q={city}&APPID={API_KEY}'\n",
    "    response = requests.get(url).json()\n",
    "\n",
    "\n",
    "    # error like unknown city name, inavalid api key\n",
    "    if response.get('cod') != 200:\n",
    "        message = response.get('message', '')\n",
    "        return f'Error getting temperature for {city.title()}. Error message = {message}'\n",
    "\n",
    "    # get current temperature and convert it into Celsius\n",
    "    current_temperature = response.get('main', {}).get('temp')\n",
    "    if current_temperature:\n",
    "        current_temperature_celsius = round(current_temperature - 273.15, 2)\n",
    "        return f'Current temperature of {city.title()} is {current_temperature_celsius}'\n",
    "    else:\n",
    "        return f'Error getting temperature for {city.title()}'"
   ]
  },
  {
   "cell_type": "code",
   "execution_count": 10,
   "metadata": {},
   "outputs": [
    {
     "name": "stdout",
     "output_type": "stream",
     "text": [
      "Enter city name:cheonan1\n",
      "Invalid city name\n"
     ]
    }
   ],
   "source": [
    "city = input(\"Enter city name:\")\n",
    "\n",
    "try:\n",
    "    for char in city:\n",
    "        if char in \"0123456789\":\n",
    "            raise ValueError\n",
    "except ValueError:\n",
    "        print (\"Invalid city name\")\n",
    "else:\n",
    "    print(\"city name %s\" % city)\n",
    "    result = search_city(city)\n",
    "    print(result)"
   ]
  },
  {
   "cell_type": "code",
   "execution_count": null,
   "metadata": {},
   "outputs": [],
   "source": []
  }
 ],
 "metadata": {
  "kernelspec": {
   "display_name": "Python 3",
   "language": "python",
   "name": "python3"
  },
  "language_info": {
   "codemirror_mode": {
    "name": "ipython",
    "version": 3
   },
   "file_extension": ".py",
   "mimetype": "text/x-python",
   "name": "python",
   "nbconvert_exporter": "python",
   "pygments_lexer": "ipython3",
   "version": "3.7.4"
  }
 },
 "nbformat": 4,
 "nbformat_minor": 2
}
