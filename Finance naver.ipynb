{
 "cells": [
  {
   "cell_type": "code",
   "execution_count": 1,
   "metadata": {},
   "outputs": [
    {
     "name": "stdout",
     "output_type": "stream",
     "text": [
      "48,600\n"
     ]
    }
   ],
   "source": [
    "import requests\n",
    "from bs4 import BeautifulSoup\n",
    " \n",
    "url = \"https://finance.naver.com/item/main.nhn?code=005930\"\n",
    "result = requests.get(url)\n",
    "result.encoding='euc-kr'\n",
    "bs_obj = BeautifulSoup(result.content, \"html.parser\")\n",
    " \n",
    "no_today = bs_obj.find(\"p\", {\"class\": \"no_today\"}) \n",
    "blind = no_today.find(\"span\", {\"class\": \"blind\"}) \n",
    "now_price = blind.text\n",
    "\n",
    " \n",
    "print(now_price)\n"
   ]
  },
  {
   "cell_type": "code",
   "execution_count": null,
   "metadata": {},
   "outputs": [],
   "source": []
  }
 ],
 "metadata": {
  "kernelspec": {
   "display_name": "Python 3",
   "language": "python",
   "name": "python3"
  },
  "language_info": {
   "codemirror_mode": {
    "name": "ipython",
    "version": 3
   },
   "file_extension": ".py",
   "mimetype": "text/x-python",
   "name": "python",
   "nbconvert_exporter": "python",
   "pygments_lexer": "ipython3",
   "version": "3.7.4"
  }
 },
 "nbformat": 4,
 "nbformat_minor": 2
}
