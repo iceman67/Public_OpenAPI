{
 "cells": [
  {
   "cell_type": "code",
   "execution_count": 10,
   "metadata": {},
   "outputs": [],
   "source": [
    "import requests"
   ]
  },
  {
   "cell_type": "code",
   "execution_count": 18,
   "metadata": {},
   "outputs": [],
   "source": [
    "def search_city(city):\n",
    "\n",
    "    API_KEY = 'a070fcd8fc2db8d5d1f140466a2012b4'  # initialize your key here\n",
    "    # call API and convert response into Python dictionary\n",
    "    \n",
    "    url = f'http://api.openweathermap.org/data/2.5/weather?q={city}&APPID={API_KEY}'\n",
    "    response = requests.get(url).json()\n",
    "\n",
    "\n",
    "    # error like unknown city name, inavalid api key\n",
    "    if response.get('cod') != 200:\n",
    "        message = response.get('message', '')\n",
    "        return f'Error getting temperature for {city.title()}. Error message = {message}'\n",
    "\n",
    "    # get current temperature and convert it into Celsius\n",
    "    current_temperature = response.get('main', {}).get('temp')\n",
    "    if current_temperature:\n",
    "        current_temperature_celsius = round(current_temperature - 273.15, 2)\n",
    "        return f'Current temperature of {city.title()} is {current_temperature_celsius}'\n",
    "    else:\n",
    "        return f'Error getting temperature for {city.title()}'"
   ]
  },
  {
   "cell_type": "code",
   "execution_count": 23,
   "metadata": {},
   "outputs": [
    {
     "name": "stdout",
     "output_type": "stream",
     "text": [
      "Enter city name:Cheonan\n",
      "city name Cheonan\n",
      "Current temperature of Cheonan is 8.64\n"
     ]
    }
   ],
   "source": [
    "city = input(\"Enter city name:\")\n",
    "try: \n",
    "    for char in city:\n",
    "        if char in \"0123456789\":\n",
    "            raise ValueError\n",
    "except ValueError:\n",
    "    print (\"Invalid city name\")\n",
    "else:\n",
    "    print(\"city name %s\" % city)\n",
    "    result = search_city(city)\n",
    "    print(result)"
   ]
  },
  {
   "cell_type": "code",
   "execution_count": 22,
   "metadata": {},
   "outputs": [
    {
     "data": {
      "text/plain": [
       "'Current temperature of Seoul is 8.87'"
      ]
     },
     "execution_count": 22,
     "metadata": {},
     "output_type": "execute_result"
    }
   ],
   "source": [
    "result"
   ]
  },
  {
   "cell_type": "code",
   "execution_count": null,
   "metadata": {},
   "outputs": [],
   "source": []
  }
 ],
 "metadata": {
  "kernelspec": {
   "display_name": "Python 3",
   "language": "python",
   "name": "python3"
  },
  "language_info": {
   "codemirror_mode": {
    "name": "ipython",
    "version": 3
   },
   "file_extension": ".py",
   "mimetype": "text/x-python",
   "name": "python",
   "nbconvert_exporter": "python",
   "pygments_lexer": "ipython3",
   "version": "3.7.4"
  }
 },
 "nbformat": 4,
 "nbformat_minor": 2
}
