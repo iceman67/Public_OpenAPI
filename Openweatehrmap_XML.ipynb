{
 "cells": [
  {
   "cell_type": "code",
   "execution_count": 14,
   "metadata": {},
   "outputs": [],
   "source": [
    "import requests\n",
    "from bs4 import BeautifulSoup"
   ]
  },
  {
   "cell_type": "code",
   "execution_count": 42,
   "metadata": {},
   "outputs": [],
   "source": [
    "def search_city(city):\n",
    "\n",
    "    API_KEY = 'a070fcd8fc2db8d5d1f140466a2012b4'  # initialize your key here\n",
    "    # call API and convert response into Python dictionary\n",
    "    \n",
    "    url = f'http://api.openweathermap.org/data/2.5/weather?q={city}&APPID={API_KEY}&mode=xml'\n",
    "    #print (url)\n",
    "    response = requests.get(url)\n",
    "    # error like unknown city name, inavalid api key\n",
    "    if response.status_code != 200:\n",
    "        message = response.get('message', '')\n",
    "        return f'Error getting temperature for {city.title()}. Error message = {message}'\n",
    "\n",
    "    content = response.content\n",
    "    soup = BeautifulSoup(content, \"xml\")\n",
    "    \n",
    "     # get current temperature and convert it into Celsius\n",
    "    current_temperature = soup.find('temperature')['value']  \n",
    " \n",
    "    if current_temperature:\n",
    "        current_temperature_celsius = round(float(current_temperature) - 273.15, 2)\n",
    "        return f'Current temperature of {city.title()} is {current_temperature_celsius}'\n",
    "    else:\n",
    "        return f'Error getting temperature for {city.title()}'"
   ]
  },
  {
   "cell_type": "code",
   "execution_count": 43,
   "metadata": {},
   "outputs": [],
   "source": [
    "result = search_city('Seoul')"
   ]
  },
  {
   "cell_type": "code",
   "execution_count": 44,
   "metadata": {},
   "outputs": [
    {
     "data": {
      "text/plain": [
       "'Current temperature of Seoul is 13.06'"
      ]
     },
     "execution_count": 44,
     "metadata": {},
     "output_type": "execute_result"
    }
   ],
   "source": [
    "result"
   ]
  },
  {
   "cell_type": "code",
   "execution_count": null,
   "metadata": {},
   "outputs": [],
   "source": []
  }
 ],
 "metadata": {
  "kernelspec": {
   "display_name": "Python 3",
   "language": "python",
   "name": "python3"
  },
  "language_info": {
   "codemirror_mode": {
    "name": "ipython",
    "version": 3
   },
   "file_extension": ".py",
   "mimetype": "text/x-python",
   "name": "python",
   "nbconvert_exporter": "python",
   "pygments_lexer": "ipython3",
   "version": "3.7.4"
  }
 },
 "nbformat": 4,
 "nbformat_minor": 2
}
